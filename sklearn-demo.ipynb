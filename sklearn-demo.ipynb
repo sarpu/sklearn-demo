{
 "cells": [
  {
   "cell_type": "markdown",
   "id": "82ba5cb0-b81e-43ea-acfa-e661fff2572c",
   "metadata": {},
   "source": [
    "# **Machine Learning using scikit-learn**"
   ]
  },
  {
   "cell_type": "markdown",
   "id": "3a251b12-73f7-4007-8f91-a866b8539ded",
   "metadata": {},
   "source": [
    "This notebook demonstrates the usage of pipelines to promote best practices for Machine Learning in Python. As a reminder, below are the following best practices we should follow when performing Machine Learning in Python:\n",
    "\n",
    "1. Perform all pre-processing steps within cross-validation\n",
    "2. Measure model performance (and model selection) using cross-validation\n",
    "3. Follow literate programming practices to make code readable and make collaboration easier\n",
    "\n",
    "## Problem Formulation\n",
    "\n",
    "In this example, we will use Allison Horst's Palmer Penguins dataset, available here: https://github.com/allisonhorst/palmerpenguins.\n",
    "\n",
    "The dataset contains data on 344 penguins. There are three different species of penguins in the dataset, collected from three separate islands in the Palmer Archipelago, Antarctica. "
   ]
  },
  {
   "cell_type": "code",
   "execution_count": 1,
   "id": "5d51761d-af0e-411f-9375-54bcd91a62db",
   "metadata": {},
   "outputs": [],
   "source": [
    "#tables and visualizations\n",
    "import pandas as pd\n",
    "import numpy as np\n",
    "import seaborn as sns\n",
    "import matplotlib.pyplot as plt\n",
    "\n",
    "#machine learning\n",
    "from sklearn.model_selection import train_test_split, GridSearchCV\n",
    "from sklearn.linear_model import LogisticRegression\n",
    "from sklearn.ensemble import RandomForestClassifier\n",
    "from sklearn.pipeline import Pipeline \n",
    "from sklearn.compose import ColumnTransformer, make_column_selector\n",
    "from sklearn.impute import SimpleImputer\n",
    "from sklearn.preprocessing import OneHotEncoder, LabelBinarizer, StandardScaler\n",
    "from sklearn import config_context\n",
    "from sklearn.metrics import classification_report, confusion_matrix, ConfusionMatrixDisplay"
   ]
  },
  {
   "cell_type": "markdown",
   "id": "87e69be8-1415-482e-adc2-4d71a697535b",
   "metadata": {},
   "source": [
    "## Load Data\n",
    "\n",
    "Here we first load the data into python using pandas and read it in as a pandas dataframe which is the format which we will use throughout the example. "
   ]
  },
  {
   "cell_type": "code",
   "execution_count": 2,
   "id": "6b347d70-2e7b-4cdc-a290-ace614045711",
   "metadata": {},
   "outputs": [
    {
     "data": {
      "text/html": [
       "<div>\n",
       "<style scoped>\n",
       "    .dataframe tbody tr th:only-of-type {\n",
       "        vertical-align: middle;\n",
       "    }\n",
       "\n",
       "    .dataframe tbody tr th {\n",
       "        vertical-align: top;\n",
       "    }\n",
       "\n",
       "    .dataframe thead th {\n",
       "        text-align: right;\n",
       "    }\n",
       "</style>\n",
       "<table border=\"1\" class=\"dataframe\">\n",
       "  <thead>\n",
       "    <tr style=\"text-align: right;\">\n",
       "      <th></th>\n",
       "      <th>species</th>\n",
       "      <th>island</th>\n",
       "      <th>bill_length_mm</th>\n",
       "      <th>bill_depth_mm</th>\n",
       "      <th>flipper_length_mm</th>\n",
       "      <th>body_mass_g</th>\n",
       "      <th>sex</th>\n",
       "      <th>year</th>\n",
       "    </tr>\n",
       "  </thead>\n",
       "  <tbody>\n",
       "    <tr>\n",
       "      <th>0</th>\n",
       "      <td>Adelie</td>\n",
       "      <td>Torgersen</td>\n",
       "      <td>39.1</td>\n",
       "      <td>18.7</td>\n",
       "      <td>181.0</td>\n",
       "      <td>3750.0</td>\n",
       "      <td>male</td>\n",
       "      <td>2007</td>\n",
       "    </tr>\n",
       "    <tr>\n",
       "      <th>1</th>\n",
       "      <td>Adelie</td>\n",
       "      <td>Torgersen</td>\n",
       "      <td>39.5</td>\n",
       "      <td>17.4</td>\n",
       "      <td>186.0</td>\n",
       "      <td>3800.0</td>\n",
       "      <td>female</td>\n",
       "      <td>2007</td>\n",
       "    </tr>\n",
       "    <tr>\n",
       "      <th>2</th>\n",
       "      <td>Adelie</td>\n",
       "      <td>Torgersen</td>\n",
       "      <td>40.3</td>\n",
       "      <td>18.0</td>\n",
       "      <td>195.0</td>\n",
       "      <td>3250.0</td>\n",
       "      <td>female</td>\n",
       "      <td>2007</td>\n",
       "    </tr>\n",
       "    <tr>\n",
       "      <th>3</th>\n",
       "      <td>Adelie</td>\n",
       "      <td>Torgersen</td>\n",
       "      <td>NaN</td>\n",
       "      <td>NaN</td>\n",
       "      <td>NaN</td>\n",
       "      <td>NaN</td>\n",
       "      <td>NaN</td>\n",
       "      <td>2007</td>\n",
       "    </tr>\n",
       "    <tr>\n",
       "      <th>4</th>\n",
       "      <td>Adelie</td>\n",
       "      <td>Torgersen</td>\n",
       "      <td>36.7</td>\n",
       "      <td>19.3</td>\n",
       "      <td>193.0</td>\n",
       "      <td>3450.0</td>\n",
       "      <td>female</td>\n",
       "      <td>2007</td>\n",
       "    </tr>\n",
       "  </tbody>\n",
       "</table>\n",
       "</div>"
      ],
      "text/plain": [
       "  species     island  bill_length_mm  bill_depth_mm  flipper_length_mm  \\\n",
       "0  Adelie  Torgersen            39.1           18.7              181.0   \n",
       "1  Adelie  Torgersen            39.5           17.4              186.0   \n",
       "2  Adelie  Torgersen            40.3           18.0              195.0   \n",
       "3  Adelie  Torgersen             NaN            NaN                NaN   \n",
       "4  Adelie  Torgersen            36.7           19.3              193.0   \n",
       "\n",
       "   body_mass_g     sex  year  \n",
       "0       3750.0    male  2007  \n",
       "1       3800.0  female  2007  \n",
       "2       3250.0  female  2007  \n",
       "3          NaN     NaN  2007  \n",
       "4       3450.0  female  2007  "
      ]
     },
     "metadata": {},
     "output_type": "display_data"
    },
    {
     "name": "stdout",
     "output_type": "stream",
     "text": [
      "<class 'pandas.core.frame.DataFrame'>\n",
      "RangeIndex: 344 entries, 0 to 343\n",
      "Data columns (total 8 columns):\n",
      " #   Column             Non-Null Count  Dtype  \n",
      "---  ------             --------------  -----  \n",
      " 0   species            344 non-null    object \n",
      " 1   island             344 non-null    object \n",
      " 2   bill_length_mm     342 non-null    float64\n",
      " 3   bill_depth_mm      342 non-null    float64\n",
      " 4   flipper_length_mm  342 non-null    float64\n",
      " 5   body_mass_g        342 non-null    float64\n",
      " 6   sex                333 non-null    object \n",
      " 7   year               344 non-null    int64  \n",
      "dtypes: float64(4), int64(1), object(3)\n",
      "memory usage: 21.6+ KB\n"
     ]
    }
   ],
   "source": [
    "penguins = pd.read_csv('https://raw.githubusercontent.com/allisonhorst/palmerpenguins/master/inst/extdata/penguins.csv')\n",
    "display(penguins.head())\n",
    "penguins.info()"
   ]
  },
  {
   "cell_type": "code",
   "execution_count": 3,
   "id": "107620e0-89ee-4f53-ac2e-dd0d03b15b66",
   "metadata": {},
   "outputs": [
    {
     "data": {
      "text/plain": [
       "species               0\n",
       "island                0\n",
       "bill_length_mm        2\n",
       "bill_depth_mm         2\n",
       "flipper_length_mm     2\n",
       "body_mass_g           2\n",
       "sex                  11\n",
       "year                  0\n",
       "dtype: int64"
      ]
     },
     "execution_count": 3,
     "metadata": {},
     "output_type": "execute_result"
    }
   ],
   "source": [
    "penguins.isna().sum()"
   ]
  },
  {
   "cell_type": "markdown",
   "id": "f3200837-3b0e-42f5-aac2-c2dc6dec3fd0",
   "metadata": {},
   "source": [
    "## Data cleaning and EDA\n",
    "\n",
    "We can now explore our data. We leave this exercise to the reader. For now, we can observe that there are a few NA values which will likely need imputation. We'll wait for this step so that we can put it within our training loop. For now, we'll just drop all of the sex NAs out of the dataframe."
   ]
  },
  {
   "cell_type": "code",
   "execution_count": 4,
   "id": "ae42a8db-457d-4532-934b-b4be3e6ce33b",
   "metadata": {},
   "outputs": [
    {
     "data": {
      "text/plain": [
       "(333, 8)"
      ]
     },
     "execution_count": 4,
     "metadata": {},
     "output_type": "execute_result"
    }
   ],
   "source": [
    "penguins = penguins.dropna(subset=['sex'])\n",
    "penguins.shape"
   ]
  },
  {
   "cell_type": "code",
   "execution_count": 5,
   "id": "02c5bb25-8c26-47b0-b53c-f352babdb717",
   "metadata": {},
   "outputs": [],
   "source": [
    "class_column = 'sex'\n",
    "random_seed = 2435\n",
    "\n",
    "X_train, X_test, y_train, y_test = train_test_split(penguins.drop(columns=class_column), penguins[class_column],\n",
    "                                                   test_size=0.25, random_state=random_seed, stratify=penguins[class_column])"
   ]
  },
  {
   "cell_type": "markdown",
   "id": "9774a06c-3c40-48c0-8834-2570785a918f",
   "metadata": {},
   "source": [
    "Quick sanity check to make sure that everything seems correct:"
   ]
  },
  {
   "cell_type": "code",
   "execution_count": 6,
   "id": "2c32bbd1-5392-4281-a1a4-a38ed6dd6390",
   "metadata": {},
   "outputs": [
    {
     "name": "stdout",
     "output_type": "stream",
     "text": [
      "On X train: \n",
      "X train dimensions:  (249, 7)\n"
     ]
    },
    {
     "data": {
      "text/html": [
       "<div>\n",
       "<style scoped>\n",
       "    .dataframe tbody tr th:only-of-type {\n",
       "        vertical-align: middle;\n",
       "    }\n",
       "\n",
       "    .dataframe tbody tr th {\n",
       "        vertical-align: top;\n",
       "    }\n",
       "\n",
       "    .dataframe thead th {\n",
       "        text-align: right;\n",
       "    }\n",
       "</style>\n",
       "<table border=\"1\" class=\"dataframe\">\n",
       "  <thead>\n",
       "    <tr style=\"text-align: right;\">\n",
       "      <th></th>\n",
       "      <th>species</th>\n",
       "      <th>island</th>\n",
       "      <th>bill_length_mm</th>\n",
       "      <th>bill_depth_mm</th>\n",
       "      <th>flipper_length_mm</th>\n",
       "      <th>body_mass_g</th>\n",
       "      <th>year</th>\n",
       "    </tr>\n",
       "  </thead>\n",
       "  <tbody>\n",
       "    <tr>\n",
       "      <th>101</th>\n",
       "      <td>Adelie</td>\n",
       "      <td>Biscoe</td>\n",
       "      <td>41.0</td>\n",
       "      <td>20.0</td>\n",
       "      <td>203.0</td>\n",
       "      <td>4725.0</td>\n",
       "      <td>2009</td>\n",
       "    </tr>\n",
       "    <tr>\n",
       "      <th>260</th>\n",
       "      <td>Gentoo</td>\n",
       "      <td>Biscoe</td>\n",
       "      <td>43.3</td>\n",
       "      <td>14.0</td>\n",
       "      <td>208.0</td>\n",
       "      <td>4575.0</td>\n",
       "      <td>2009</td>\n",
       "    </tr>\n",
       "    <tr>\n",
       "      <th>142</th>\n",
       "      <td>Adelie</td>\n",
       "      <td>Dream</td>\n",
       "      <td>32.1</td>\n",
       "      <td>15.5</td>\n",
       "      <td>188.0</td>\n",
       "      <td>3050.0</td>\n",
       "      <td>2009</td>\n",
       "    </tr>\n",
       "    <tr>\n",
       "      <th>155</th>\n",
       "      <td>Gentoo</td>\n",
       "      <td>Biscoe</td>\n",
       "      <td>50.0</td>\n",
       "      <td>15.2</td>\n",
       "      <td>218.0</td>\n",
       "      <td>5700.0</td>\n",
       "      <td>2007</td>\n",
       "    </tr>\n",
       "    <tr>\n",
       "      <th>136</th>\n",
       "      <td>Adelie</td>\n",
       "      <td>Dream</td>\n",
       "      <td>35.6</td>\n",
       "      <td>17.5</td>\n",
       "      <td>191.0</td>\n",
       "      <td>3175.0</td>\n",
       "      <td>2009</td>\n",
       "    </tr>\n",
       "  </tbody>\n",
       "</table>\n",
       "</div>"
      ],
      "text/plain": [
       "    species  island  bill_length_mm  bill_depth_mm  flipper_length_mm  \\\n",
       "101  Adelie  Biscoe            41.0           20.0              203.0   \n",
       "260  Gentoo  Biscoe            43.3           14.0              208.0   \n",
       "142  Adelie   Dream            32.1           15.5              188.0   \n",
       "155  Gentoo  Biscoe            50.0           15.2              218.0   \n",
       "136  Adelie   Dream            35.6           17.5              191.0   \n",
       "\n",
       "     body_mass_g  year  \n",
       "101       4725.0  2009  \n",
       "260       4575.0  2009  \n",
       "142       3050.0  2009  \n",
       "155       5700.0  2007  \n",
       "136       3175.0  2009  "
      ]
     },
     "metadata": {},
     "output_type": "display_data"
    },
    {
     "name": "stdout",
     "output_type": "stream",
     "text": [
      "\n",
      "On X test: \n",
      "X test dimensions:  (84, 7)\n"
     ]
    },
    {
     "data": {
      "text/html": [
       "<div>\n",
       "<style scoped>\n",
       "    .dataframe tbody tr th:only-of-type {\n",
       "        vertical-align: middle;\n",
       "    }\n",
       "\n",
       "    .dataframe tbody tr th {\n",
       "        vertical-align: top;\n",
       "    }\n",
       "\n",
       "    .dataframe thead th {\n",
       "        text-align: right;\n",
       "    }\n",
       "</style>\n",
       "<table border=\"1\" class=\"dataframe\">\n",
       "  <thead>\n",
       "    <tr style=\"text-align: right;\">\n",
       "      <th></th>\n",
       "      <th>species</th>\n",
       "      <th>island</th>\n",
       "      <th>bill_length_mm</th>\n",
       "      <th>bill_depth_mm</th>\n",
       "      <th>flipper_length_mm</th>\n",
       "      <th>body_mass_g</th>\n",
       "      <th>year</th>\n",
       "    </tr>\n",
       "  </thead>\n",
       "  <tbody>\n",
       "    <tr>\n",
       "      <th>308</th>\n",
       "      <td>Chinstrap</td>\n",
       "      <td>Dream</td>\n",
       "      <td>42.5</td>\n",
       "      <td>16.7</td>\n",
       "      <td>187.0</td>\n",
       "      <td>3350.0</td>\n",
       "      <td>2008</td>\n",
       "    </tr>\n",
       "    <tr>\n",
       "      <th>120</th>\n",
       "      <td>Adelie</td>\n",
       "      <td>Torgersen</td>\n",
       "      <td>36.2</td>\n",
       "      <td>17.2</td>\n",
       "      <td>187.0</td>\n",
       "      <td>3150.0</td>\n",
       "      <td>2009</td>\n",
       "    </tr>\n",
       "    <tr>\n",
       "      <th>206</th>\n",
       "      <td>Gentoo</td>\n",
       "      <td>Biscoe</td>\n",
       "      <td>46.5</td>\n",
       "      <td>14.4</td>\n",
       "      <td>217.0</td>\n",
       "      <td>4900.0</td>\n",
       "      <td>2008</td>\n",
       "    </tr>\n",
       "    <tr>\n",
       "      <th>106</th>\n",
       "      <td>Adelie</td>\n",
       "      <td>Biscoe</td>\n",
       "      <td>38.6</td>\n",
       "      <td>17.2</td>\n",
       "      <td>199.0</td>\n",
       "      <td>3750.0</td>\n",
       "      <td>2009</td>\n",
       "    </tr>\n",
       "    <tr>\n",
       "      <th>99</th>\n",
       "      <td>Adelie</td>\n",
       "      <td>Dream</td>\n",
       "      <td>43.2</td>\n",
       "      <td>18.5</td>\n",
       "      <td>192.0</td>\n",
       "      <td>4100.0</td>\n",
       "      <td>2008</td>\n",
       "    </tr>\n",
       "  </tbody>\n",
       "</table>\n",
       "</div>"
      ],
      "text/plain": [
       "       species     island  bill_length_mm  bill_depth_mm  flipper_length_mm  \\\n",
       "308  Chinstrap      Dream            42.5           16.7              187.0   \n",
       "120     Adelie  Torgersen            36.2           17.2              187.0   \n",
       "206     Gentoo     Biscoe            46.5           14.4              217.0   \n",
       "106     Adelie     Biscoe            38.6           17.2              199.0   \n",
       "99      Adelie      Dream            43.2           18.5              192.0   \n",
       "\n",
       "     body_mass_g  year  \n",
       "308       3350.0  2008  \n",
       "120       3150.0  2009  \n",
       "206       4900.0  2008  \n",
       "106       3750.0  2009  \n",
       "99        4100.0  2008  "
      ]
     },
     "metadata": {},
     "output_type": "display_data"
    }
   ],
   "source": [
    "# X Train\n",
    "print('On X train: ')\n",
    "print('X train dimensions: ', X_train.shape)\n",
    "display(X_train.head())\n",
    "\n",
    "# X test\n",
    "print('\\nOn X test: ')\n",
    "print('X test dimensions: ', X_test.shape)\n",
    "display(X_test.head())"
   ]
  },
  {
   "cell_type": "code",
   "execution_count": 7,
   "id": "113d1ab3-739a-4e42-8500-92b6332b2475",
   "metadata": {},
   "outputs": [
    {
     "name": "stdout",
     "output_type": "stream",
     "text": [
      "On y train: \n",
      "y train dimensions:  (249,)\n"
     ]
    },
    {
     "data": {
      "text/plain": [
       "101      male\n",
       "260    female\n",
       "142    female\n",
       "155      male\n",
       "136    female\n",
       "Name: sex, dtype: object"
      ]
     },
     "metadata": {},
     "output_type": "display_data"
    },
    {
     "name": "stdout",
     "output_type": "stream",
     "text": [
      "\n",
      "On y test: \n",
      "y test dimensions:  (84,)\n"
     ]
    },
    {
     "data": {
      "text/plain": [
       "308    female\n",
       "120    female\n",
       "206    female\n",
       "106    female\n",
       "99       male\n",
       "Name: sex, dtype: object"
      ]
     },
     "metadata": {},
     "output_type": "display_data"
    }
   ],
   "source": [
    "# X Train\n",
    "print('On y train: ')\n",
    "print('y train dimensions: ', y_train.shape)\n",
    "display(y_train.head())\n",
    "\n",
    "# X test\n",
    "print('\\nOn y test: ')\n",
    "print('y test dimensions: ', y_test.shape)\n",
    "display(y_test.head())"
   ]
  },
  {
   "cell_type": "markdown",
   "id": "6a76f5d1-05a4-4f81-8608-099b3b20abef",
   "metadata": {},
   "source": [
    "## Establish the training pipeline\n",
    "\n",
    "We can now establish the training pipeline for our models. Since this is a process we would need to repeat several times, it's good to essentially functionalize the process so we do not need to re-write redundant code. Here, we can impute some values that were missing, and encode any categorical values. Note that these pipelines will change according to the model and methodology you choose - additionally, the pipelines will also change depending on the data types of the columns in your dataset. Note the use of drop=if_binary in the one hot encoder. This allows us to drop one column from the binary dummy variables, removing redundant information and preventing multicollinearity."
   ]
  },
  {
   "cell_type": "code",
   "execution_count": 8,
   "id": "9ed44830-4039-4564-bde0-2b6661d672c5",
   "metadata": {},
   "outputs": [],
   "source": [
    "#individual pipelines for differing datatypes\n",
    "cat_pipeline = Pipeline(steps=[('cat_impute', SimpleImputer(missing_values=np.nan, strategy='most_frequent')),\n",
    "                               ('onehot_cat', OneHotEncoder(drop='if_binary'))])\n",
    "num_pipeline = Pipeline(steps=[('impute_num', SimpleImputer(missing_values=np.nan, strategy='mean')),\n",
    "                               ('scale_num', StandardScaler())])"
   ]
  },
  {
   "cell_type": "code",
   "execution_count": 9,
   "id": "242c958a-894d-4259-9dfd-387ddf541144",
   "metadata": {},
   "outputs": [],
   "source": [
    "#establish preprocessing pipeline by columns\n",
    "preproc = ColumnTransformer([('cat_pipe', cat_pipeline, make_column_selector(dtype_include=object)),\n",
    "                             ('num_pipe', num_pipeline, make_column_selector(dtype_include=np.number))],\n",
    "                             remainder='passthrough')"
   ]
  },
  {
   "cell_type": "code",
   "execution_count": 10,
   "id": "917a7dae-35ff-43b2-8186-dbe731d0f08d",
   "metadata": {},
   "outputs": [
    {
     "data": {
      "text/html": [
       "<style>div.sk-top-container {color: black;background-color: white;}div.sk-toggleable {background-color: white;}label.sk-toggleable__label {cursor: pointer;display: block;width: 100%;margin-bottom: 0;padding: 0.2em 0.3em;box-sizing: border-box;text-align: center;}div.sk-toggleable__content {max-height: 0;max-width: 0;overflow: hidden;text-align: left;background-color: #f0f8ff;}div.sk-toggleable__content pre {margin: 0.2em;color: black;border-radius: 0.25em;background-color: #f0f8ff;}input.sk-toggleable__control:checked~div.sk-toggleable__content {max-height: 200px;max-width: 100%;overflow: auto;}div.sk-estimator input.sk-toggleable__control:checked~label.sk-toggleable__label {background-color: #d4ebff;}div.sk-label input.sk-toggleable__control:checked~label.sk-toggleable__label {background-color: #d4ebff;}input.sk-hidden--visually {border: 0;clip: rect(1px 1px 1px 1px);clip: rect(1px, 1px, 1px, 1px);height: 1px;margin: -1px;overflow: hidden;padding: 0;position: absolute;width: 1px;}div.sk-estimator {font-family: monospace;background-color: #f0f8ff;margin: 0.25em 0.25em;border: 1px dotted black;border-radius: 0.25em;box-sizing: border-box;}div.sk-estimator:hover {background-color: #d4ebff;}div.sk-parallel-item::after {content: \"\";width: 100%;border-bottom: 1px solid gray;flex-grow: 1;}div.sk-label:hover label.sk-toggleable__label {background-color: #d4ebff;}div.sk-serial::before {content: \"\";position: absolute;border-left: 1px solid gray;box-sizing: border-box;top: 2em;bottom: 0;left: 50%;}div.sk-serial {display: flex;flex-direction: column;align-items: center;background-color: white;}div.sk-item {z-index: 1;}div.sk-parallel {display: flex;align-items: stretch;justify-content: center;background-color: white;}div.sk-parallel-item {display: flex;flex-direction: column;position: relative;background-color: white;}div.sk-parallel-item:first-child::after {align-self: flex-end;width: 50%;}div.sk-parallel-item:last-child::after {align-self: flex-start;width: 50%;}div.sk-parallel-item:only-child::after {width: 0;}div.sk-dashed-wrapped {border: 1px dashed gray;margin: 0.2em;box-sizing: border-box;padding-bottom: 0.1em;background-color: white;position: relative;}div.sk-label label {font-family: monospace;font-weight: bold;background-color: white;display: inline-block;line-height: 1.2em;}div.sk-label-container {position: relative;z-index: 2;text-align: center;}div.sk-container {display: inline-block;position: relative;}</style><div class=\"sk-top-container\"><div class=\"sk-container\"><div class=\"sk-item sk-dashed-wrapped\"><div class=\"sk-label-container\"><div class=\"sk-label sk-toggleable\"><input class=\"sk-toggleable__control sk-hidden--visually\" id=\"6dabad22-512c-4bf1-b946-e8e187dbcdc5\" type=\"checkbox\" ><label class=\"sk-toggleable__label\" for=\"6dabad22-512c-4bf1-b946-e8e187dbcdc5\">Pipeline</label><div class=\"sk-toggleable__content\"><pre>Pipeline(steps=[('preproc',\n",
       "                 ColumnTransformer(remainder='passthrough',\n",
       "                                   transformers=[('cat_pipe',\n",
       "                                                  Pipeline(steps=[('cat_impute',\n",
       "                                                                   SimpleImputer(strategy='most_frequent')),\n",
       "                                                                  ('onehot_cat',\n",
       "                                                                   OneHotEncoder(drop='if_binary'))]),\n",
       "                                                  <sklearn.compose._column_transformer.make_column_selector object at 0x7fd1f0270490>),\n",
       "                                                 ('num_pipe',\n",
       "                                                  Pipeline(steps=[('impute_num',\n",
       "                                                                   SimpleImputer()),\n",
       "                                                                  ('scale_num',\n",
       "                                                                   StandardScaler())]),\n",
       "                                                  <sklearn.compose._column_transformer.make_column_selector object at 0x7fd1f02706d0>)])),\n",
       "                ('mdl',\n",
       "                 LogisticRegression(penalty='elasticnet', solver='saga',\n",
       "                                    tol=0.01))])</pre></div></div></div><div class=\"sk-serial\"><div class=\"sk-item sk-dashed-wrapped\"><div class=\"sk-label-container\"><div class=\"sk-label sk-toggleable\"><input class=\"sk-toggleable__control sk-hidden--visually\" id=\"b1b7a6a4-0bbb-44ee-af98-5a37f68c491a\" type=\"checkbox\" ><label class=\"sk-toggleable__label\" for=\"b1b7a6a4-0bbb-44ee-af98-5a37f68c491a\">preproc: ColumnTransformer</label><div class=\"sk-toggleable__content\"><pre>ColumnTransformer(remainder='passthrough',\n",
       "                  transformers=[('cat_pipe',\n",
       "                                 Pipeline(steps=[('cat_impute',\n",
       "                                                  SimpleImputer(strategy='most_frequent')),\n",
       "                                                 ('onehot_cat',\n",
       "                                                  OneHotEncoder(drop='if_binary'))]),\n",
       "                                 <sklearn.compose._column_transformer.make_column_selector object at 0x7fd1f0270490>),\n",
       "                                ('num_pipe',\n",
       "                                 Pipeline(steps=[('impute_num',\n",
       "                                                  SimpleImputer()),\n",
       "                                                 ('scale_num',\n",
       "                                                  StandardScaler())]),\n",
       "                                 <sklearn.compose._column_transformer.make_column_selector object at 0x7fd1f02706d0>)])</pre></div></div></div><div class=\"sk-parallel\"><div class=\"sk-parallel-item\"><div class=\"sk-item\"><div class=\"sk-label-container\"><div class=\"sk-label sk-toggleable\"><input class=\"sk-toggleable__control sk-hidden--visually\" id=\"553d25b5-b083-4c5d-9f8a-0d992be25c08\" type=\"checkbox\" ><label class=\"sk-toggleable__label\" for=\"553d25b5-b083-4c5d-9f8a-0d992be25c08\">cat_pipe</label><div class=\"sk-toggleable__content\"><pre><sklearn.compose._column_transformer.make_column_selector object at 0x7fd1f0270490></pre></div></div></div><div class=\"sk-serial\"><div class=\"sk-item\"><div class=\"sk-serial\"><div class=\"sk-item\"><div class=\"sk-estimator sk-toggleable\"><input class=\"sk-toggleable__control sk-hidden--visually\" id=\"1011b706-0f37-481a-9035-b270c50aa081\" type=\"checkbox\" ><label class=\"sk-toggleable__label\" for=\"1011b706-0f37-481a-9035-b270c50aa081\">SimpleImputer</label><div class=\"sk-toggleable__content\"><pre>SimpleImputer(strategy='most_frequent')</pre></div></div></div><div class=\"sk-item\"><div class=\"sk-estimator sk-toggleable\"><input class=\"sk-toggleable__control sk-hidden--visually\" id=\"aad2898c-ef28-4fcf-ba93-0cdb07059ce7\" type=\"checkbox\" ><label class=\"sk-toggleable__label\" for=\"aad2898c-ef28-4fcf-ba93-0cdb07059ce7\">OneHotEncoder</label><div class=\"sk-toggleable__content\"><pre>OneHotEncoder(drop='if_binary')</pre></div></div></div></div></div></div></div></div><div class=\"sk-parallel-item\"><div class=\"sk-item\"><div class=\"sk-label-container\"><div class=\"sk-label sk-toggleable\"><input class=\"sk-toggleable__control sk-hidden--visually\" id=\"8ef71c47-6317-471f-bb1d-3bb5d5494106\" type=\"checkbox\" ><label class=\"sk-toggleable__label\" for=\"8ef71c47-6317-471f-bb1d-3bb5d5494106\">num_pipe</label><div class=\"sk-toggleable__content\"><pre><sklearn.compose._column_transformer.make_column_selector object at 0x7fd1f02706d0></pre></div></div></div><div class=\"sk-serial\"><div class=\"sk-item\"><div class=\"sk-serial\"><div class=\"sk-item\"><div class=\"sk-estimator sk-toggleable\"><input class=\"sk-toggleable__control sk-hidden--visually\" id=\"7f4d4a05-48f0-4474-a15d-72545d736d2d\" type=\"checkbox\" ><label class=\"sk-toggleable__label\" for=\"7f4d4a05-48f0-4474-a15d-72545d736d2d\">SimpleImputer</label><div class=\"sk-toggleable__content\"><pre>SimpleImputer()</pre></div></div></div><div class=\"sk-item\"><div class=\"sk-estimator sk-toggleable\"><input class=\"sk-toggleable__control sk-hidden--visually\" id=\"91e4b5c7-fb1f-4045-9027-31a6505f5d53\" type=\"checkbox\" ><label class=\"sk-toggleable__label\" for=\"91e4b5c7-fb1f-4045-9027-31a6505f5d53\">StandardScaler</label><div class=\"sk-toggleable__content\"><pre>StandardScaler()</pre></div></div></div></div></div></div></div></div><div class=\"sk-parallel-item\"><div class=\"sk-item\"><div class=\"sk-label-container\"><div class=\"sk-label sk-toggleable\"><input class=\"sk-toggleable__control sk-hidden--visually\" id=\"85e5ce17-cf10-4b71-9723-e2333c06902c\" type=\"checkbox\" ><label class=\"sk-toggleable__label\" for=\"85e5ce17-cf10-4b71-9723-e2333c06902c\">remainder</label><div class=\"sk-toggleable__content\"><pre></pre></div></div></div><div class=\"sk-serial\"><div class=\"sk-item\"><div class=\"sk-estimator sk-toggleable\"><input class=\"sk-toggleable__control sk-hidden--visually\" id=\"f3db253b-1708-4331-b293-033e0da6d310\" type=\"checkbox\" ><label class=\"sk-toggleable__label\" for=\"f3db253b-1708-4331-b293-033e0da6d310\">passthrough</label><div class=\"sk-toggleable__content\"><pre>passthrough</pre></div></div></div></div></div></div></div></div><div class=\"sk-item\"><div class=\"sk-estimator sk-toggleable\"><input class=\"sk-toggleable__control sk-hidden--visually\" id=\"aa386420-1945-4b32-8355-e4a46ac621cc\" type=\"checkbox\" ><label class=\"sk-toggleable__label\" for=\"aa386420-1945-4b32-8355-e4a46ac621cc\">LogisticRegression</label><div class=\"sk-toggleable__content\"><pre>LogisticRegression(penalty='elasticnet', solver='saga', tol=0.01)</pre></div></div></div></div></div></div></div>"
      ],
      "text/plain": [
       "Pipeline(steps=[('preproc',\n",
       "                 ColumnTransformer(remainder='passthrough',\n",
       "                                   transformers=[('cat_pipe',\n",
       "                                                  Pipeline(steps=[('cat_impute',\n",
       "                                                                   SimpleImputer(strategy='most_frequent')),\n",
       "                                                                  ('onehot_cat',\n",
       "                                                                   OneHotEncoder(drop='if_binary'))]),\n",
       "                                                  <sklearn.compose._column_transformer.make_column_selector object at 0x7fd1f0270490>),\n",
       "                                                 ('num_pipe',\n",
       "                                                  Pipeline(steps=[('impute_num',\n",
       "                                                                   SimpleImputer()),\n",
       "                                                                  ('scale_num',\n",
       "                                                                   StandardScaler())]),\n",
       "                                                  <sklearn.compose._column_transformer.make_column_selector object at 0x7fd1f02706d0>)])),\n",
       "                ('mdl',\n",
       "                 LogisticRegression(penalty='elasticnet', solver='saga',\n",
       "                                    tol=0.01))])"
      ]
     },
     "metadata": {},
     "output_type": "display_data"
    }
   ],
   "source": [
    "#generate the whole modeling pipeline with preprocessing\n",
    "pipe = Pipeline(steps=[('preproc', preproc),\n",
    "                       ('mdl', LogisticRegression(penalty='elasticnet', solver='saga', tol=0.01))])\n",
    "\n",
    "#visualization for steps\n",
    "with config_context(display='diagram'):\n",
    "    display(pipe)"
   ]
  },
  {
   "cell_type": "markdown",
   "id": "32517c21-62d6-4d8c-81ad-aa08a3199ff3",
   "metadata": {},
   "source": [
    "## Cross-validation with hyperparameter tuning\n",
    "\n",
    "Now that we have our pipelines, we can now use this as part of cross validation and hyperparameter tuning."
   ]
  },
  {
   "cell_type": "code",
   "execution_count": 11,
   "id": "f94e90d0-7785-48f4-a0cd-ff37090a92d9",
   "metadata": {},
   "outputs": [],
   "source": [
    "tuning_grid = {'mdl__l1_ratio' : np.linspace(0,1,5),\n",
    "               'mdl__C': np.logspace(-1, 6, 3) }\n",
    "grid_search = GridSearchCV(pipe, param_grid = tuning_grid, cv = 5, return_train_score=True)"
   ]
  },
  {
   "cell_type": "code",
   "execution_count": 12,
   "id": "4b612b9e-e561-47c9-9ecb-8ea5ec62cda9",
   "metadata": {},
   "outputs": [
    {
     "data": {
      "text/plain": [
       "{'mdl__l1_ratio': array([0.  , 0.25, 0.5 , 0.75, 1.  ]),\n",
       " 'mdl__C': array([1.00000000e-01, 3.16227766e+02, 1.00000000e+06])}"
      ]
     },
     "execution_count": 12,
     "metadata": {},
     "output_type": "execute_result"
    }
   ],
   "source": [
    "tuning_grid"
   ]
  },
  {
   "cell_type": "code",
   "execution_count": 13,
   "id": "e8f2cb02-c5eb-4fd4-9331-050191081014",
   "metadata": {},
   "outputs": [
    {
     "data": {
      "text/plain": [
       "GridSearchCV(cv=5,\n",
       "             estimator=Pipeline(steps=[('preproc',\n",
       "                                        ColumnTransformer(remainder='passthrough',\n",
       "                                                          transformers=[('cat_pipe',\n",
       "                                                                         Pipeline(steps=[('cat_impute',\n",
       "                                                                                          SimpleImputer(strategy='most_frequent')),\n",
       "                                                                                         ('onehot_cat',\n",
       "                                                                                          OneHotEncoder(drop='if_binary'))]),\n",
       "                                                                         <sklearn.compose._column_transformer.make_column_selector object at 0x7fd1f0270490>),\n",
       "                                                                        ('num_pipe',\n",
       "                                                                         Pipeline(step...\n",
       "                                                                                          SimpleImputer()),\n",
       "                                                                                         ('scale_num',\n",
       "                                                                                          StandardScaler())]),\n",
       "                                                                         <sklearn.compose._column_transformer.make_column_selector object at 0x7fd1f02706d0>)])),\n",
       "                                       ('mdl',\n",
       "                                        LogisticRegression(penalty='elasticnet',\n",
       "                                                           solver='saga',\n",
       "                                                           tol=0.01))]),\n",
       "             param_grid={'mdl__C': array([1.00000000e-01, 3.16227766e+02, 1.00000000e+06]),\n",
       "                         'mdl__l1_ratio': array([0.  , 0.25, 0.5 , 0.75, 1.  ])},\n",
       "             return_train_score=True)"
      ]
     },
     "execution_count": 13,
     "metadata": {},
     "output_type": "execute_result"
    }
   ],
   "source": [
    "grid_search.fit(X_train, y_train)"
   ]
  },
  {
   "cell_type": "code",
   "execution_count": 14,
   "id": "69f4874e-0de3-462f-95ef-d01ba648f7a4",
   "metadata": {},
   "outputs": [
    {
     "name": "stdout",
     "output_type": "stream",
     "text": [
      "0.9158367346938775\n"
     ]
    },
    {
     "data": {
      "text/plain": [
       "{'mdl__C': 316.22776601683796, 'mdl__l1_ratio': 0.0}"
      ]
     },
     "execution_count": 14,
     "metadata": {},
     "output_type": "execute_result"
    }
   ],
   "source": [
    "print(grid_search.best_score_)\n",
    "grid_search.best_params_"
   ]
  },
  {
   "cell_type": "code",
   "execution_count": 15,
   "id": "f9529343-553b-417d-9347-fec243edd4d2",
   "metadata": {},
   "outputs": [
    {
     "data": {
      "text/html": [
       "<div>\n",
       "<style scoped>\n",
       "    .dataframe tbody tr th:only-of-type {\n",
       "        vertical-align: middle;\n",
       "    }\n",
       "\n",
       "    .dataframe tbody tr th {\n",
       "        vertical-align: top;\n",
       "    }\n",
       "\n",
       "    .dataframe thead th {\n",
       "        text-align: right;\n",
       "    }\n",
       "</style>\n",
       "<table border=\"1\" class=\"dataframe\">\n",
       "  <thead>\n",
       "    <tr style=\"text-align: right;\">\n",
       "      <th></th>\n",
       "      <th>mean_fit_time</th>\n",
       "      <th>std_fit_time</th>\n",
       "      <th>mean_score_time</th>\n",
       "      <th>std_score_time</th>\n",
       "      <th>param_mdl__C</th>\n",
       "      <th>param_mdl__l1_ratio</th>\n",
       "      <th>params</th>\n",
       "      <th>split0_test_score</th>\n",
       "      <th>split1_test_score</th>\n",
       "      <th>split2_test_score</th>\n",
       "      <th>...</th>\n",
       "      <th>mean_test_score</th>\n",
       "      <th>std_test_score</th>\n",
       "      <th>rank_test_score</th>\n",
       "      <th>split0_train_score</th>\n",
       "      <th>split1_train_score</th>\n",
       "      <th>split2_train_score</th>\n",
       "      <th>split3_train_score</th>\n",
       "      <th>split4_train_score</th>\n",
       "      <th>mean_train_score</th>\n",
       "      <th>std_train_score</th>\n",
       "    </tr>\n",
       "  </thead>\n",
       "  <tbody>\n",
       "    <tr>\n",
       "      <th>0</th>\n",
       "      <td>0.013081</td>\n",
       "      <td>0.003034</td>\n",
       "      <td>0.004969</td>\n",
       "      <td>0.001100</td>\n",
       "      <td>0.1</td>\n",
       "      <td>0.0</td>\n",
       "      <td>{'mdl__C': 0.1, 'mdl__l1_ratio': 0.0}</td>\n",
       "      <td>0.90</td>\n",
       "      <td>0.90</td>\n",
       "      <td>0.92</td>\n",
       "      <td>...</td>\n",
       "      <td>0.903673</td>\n",
       "      <td>0.014628</td>\n",
       "      <td>11</td>\n",
       "      <td>0.899497</td>\n",
       "      <td>0.909548</td>\n",
       "      <td>0.909548</td>\n",
       "      <td>0.909548</td>\n",
       "      <td>0.905</td>\n",
       "      <td>0.906628</td>\n",
       "      <td>0.003977</td>\n",
       "    </tr>\n",
       "    <tr>\n",
       "      <th>1</th>\n",
       "      <td>0.010312</td>\n",
       "      <td>0.000995</td>\n",
       "      <td>0.003884</td>\n",
       "      <td>0.000069</td>\n",
       "      <td>0.1</td>\n",
       "      <td>0.25</td>\n",
       "      <td>{'mdl__C': 0.1, 'mdl__l1_ratio': 0.25}</td>\n",
       "      <td>0.90</td>\n",
       "      <td>0.90</td>\n",
       "      <td>0.92</td>\n",
       "      <td>...</td>\n",
       "      <td>0.899673</td>\n",
       "      <td>0.021619</td>\n",
       "      <td>13</td>\n",
       "      <td>0.889447</td>\n",
       "      <td>0.909548</td>\n",
       "      <td>0.899497</td>\n",
       "      <td>0.919598</td>\n",
       "      <td>0.900</td>\n",
       "      <td>0.903618</td>\n",
       "      <td>0.010212</td>\n",
       "    </tr>\n",
       "    <tr>\n",
       "      <th>2</th>\n",
       "      <td>0.009784</td>\n",
       "      <td>0.000232</td>\n",
       "      <td>0.003744</td>\n",
       "      <td>0.000057</td>\n",
       "      <td>0.1</td>\n",
       "      <td>0.5</td>\n",
       "      <td>{'mdl__C': 0.1, 'mdl__l1_ratio': 0.5}</td>\n",
       "      <td>0.92</td>\n",
       "      <td>0.88</td>\n",
       "      <td>0.90</td>\n",
       "      <td>...</td>\n",
       "      <td>0.899837</td>\n",
       "      <td>0.039756</td>\n",
       "      <td>12</td>\n",
       "      <td>0.894472</td>\n",
       "      <td>0.904523</td>\n",
       "      <td>0.889447</td>\n",
       "      <td>0.914573</td>\n",
       "      <td>0.900</td>\n",
       "      <td>0.900603</td>\n",
       "      <td>0.008636</td>\n",
       "    </tr>\n",
       "    <tr>\n",
       "      <th>3</th>\n",
       "      <td>0.009862</td>\n",
       "      <td>0.000326</td>\n",
       "      <td>0.003858</td>\n",
       "      <td>0.000141</td>\n",
       "      <td>0.1</td>\n",
       "      <td>0.75</td>\n",
       "      <td>{'mdl__C': 0.1, 'mdl__l1_ratio': 0.75}</td>\n",
       "      <td>0.92</td>\n",
       "      <td>0.88</td>\n",
       "      <td>0.88</td>\n",
       "      <td>...</td>\n",
       "      <td>0.891673</td>\n",
       "      <td>0.023625</td>\n",
       "      <td>15</td>\n",
       "      <td>0.904523</td>\n",
       "      <td>0.909548</td>\n",
       "      <td>0.899497</td>\n",
       "      <td>0.909548</td>\n",
       "      <td>0.885</td>\n",
       "      <td>0.901623</td>\n",
       "      <td>0.009109</td>\n",
       "    </tr>\n",
       "    <tr>\n",
       "      <th>4</th>\n",
       "      <td>0.009762</td>\n",
       "      <td>0.000399</td>\n",
       "      <td>0.003704</td>\n",
       "      <td>0.000058</td>\n",
       "      <td>0.1</td>\n",
       "      <td>1.0</td>\n",
       "      <td>{'mdl__C': 0.1, 'mdl__l1_ratio': 1.0}</td>\n",
       "      <td>0.88</td>\n",
       "      <td>0.90</td>\n",
       "      <td>0.90</td>\n",
       "      <td>...</td>\n",
       "      <td>0.895673</td>\n",
       "      <td>0.014448</td>\n",
       "      <td>14</td>\n",
       "      <td>0.899497</td>\n",
       "      <td>0.889447</td>\n",
       "      <td>0.899497</td>\n",
       "      <td>0.899497</td>\n",
       "      <td>0.885</td>\n",
       "      <td>0.894588</td>\n",
       "      <td>0.006175</td>\n",
       "    </tr>\n",
       "    <tr>\n",
       "      <th>5</th>\n",
       "      <td>0.009858</td>\n",
       "      <td>0.000275</td>\n",
       "      <td>0.003653</td>\n",
       "      <td>0.000066</td>\n",
       "      <td>316.227766</td>\n",
       "      <td>0.0</td>\n",
       "      <td>{'mdl__C': 316.22776601683796, 'mdl__l1_ratio'...</td>\n",
       "      <td>0.90</td>\n",
       "      <td>0.90</td>\n",
       "      <td>0.92</td>\n",
       "      <td>...</td>\n",
       "      <td>0.915837</td>\n",
       "      <td>0.023016</td>\n",
       "      <td>1</td>\n",
       "      <td>0.929648</td>\n",
       "      <td>0.929648</td>\n",
       "      <td>0.939698</td>\n",
       "      <td>0.939698</td>\n",
       "      <td>0.915</td>\n",
       "      <td>0.930739</td>\n",
       "      <td>0.009062</td>\n",
       "    </tr>\n",
       "    <tr>\n",
       "      <th>6</th>\n",
       "      <td>0.009549</td>\n",
       "      <td>0.000107</td>\n",
       "      <td>0.003471</td>\n",
       "      <td>0.000039</td>\n",
       "      <td>316.227766</td>\n",
       "      <td>0.25</td>\n",
       "      <td>{'mdl__C': 316.22776601683796, 'mdl__l1_ratio'...</td>\n",
       "      <td>0.90</td>\n",
       "      <td>0.90</td>\n",
       "      <td>0.92</td>\n",
       "      <td>...</td>\n",
       "      <td>0.915837</td>\n",
       "      <td>0.023016</td>\n",
       "      <td>1</td>\n",
       "      <td>0.929648</td>\n",
       "      <td>0.929648</td>\n",
       "      <td>0.939698</td>\n",
       "      <td>0.939698</td>\n",
       "      <td>0.915</td>\n",
       "      <td>0.930739</td>\n",
       "      <td>0.009062</td>\n",
       "    </tr>\n",
       "    <tr>\n",
       "      <th>7</th>\n",
       "      <td>0.009491</td>\n",
       "      <td>0.000160</td>\n",
       "      <td>0.003472</td>\n",
       "      <td>0.000041</td>\n",
       "      <td>316.227766</td>\n",
       "      <td>0.5</td>\n",
       "      <td>{'mdl__C': 316.22776601683796, 'mdl__l1_ratio'...</td>\n",
       "      <td>0.90</td>\n",
       "      <td>0.90</td>\n",
       "      <td>0.92</td>\n",
       "      <td>...</td>\n",
       "      <td>0.915837</td>\n",
       "      <td>0.023016</td>\n",
       "      <td>1</td>\n",
       "      <td>0.929648</td>\n",
       "      <td>0.929648</td>\n",
       "      <td>0.939698</td>\n",
       "      <td>0.939698</td>\n",
       "      <td>0.915</td>\n",
       "      <td>0.930739</td>\n",
       "      <td>0.009062</td>\n",
       "    </tr>\n",
       "    <tr>\n",
       "      <th>8</th>\n",
       "      <td>0.009504</td>\n",
       "      <td>0.000101</td>\n",
       "      <td>0.003498</td>\n",
       "      <td>0.000111</td>\n",
       "      <td>316.227766</td>\n",
       "      <td>0.75</td>\n",
       "      <td>{'mdl__C': 316.22776601683796, 'mdl__l1_ratio'...</td>\n",
       "      <td>0.90</td>\n",
       "      <td>0.90</td>\n",
       "      <td>0.92</td>\n",
       "      <td>...</td>\n",
       "      <td>0.915837</td>\n",
       "      <td>0.023016</td>\n",
       "      <td>1</td>\n",
       "      <td>0.929648</td>\n",
       "      <td>0.929648</td>\n",
       "      <td>0.939698</td>\n",
       "      <td>0.939698</td>\n",
       "      <td>0.915</td>\n",
       "      <td>0.930739</td>\n",
       "      <td>0.009062</td>\n",
       "    </tr>\n",
       "    <tr>\n",
       "      <th>9</th>\n",
       "      <td>0.009462</td>\n",
       "      <td>0.000134</td>\n",
       "      <td>0.003461</td>\n",
       "      <td>0.000030</td>\n",
       "      <td>316.227766</td>\n",
       "      <td>1.0</td>\n",
       "      <td>{'mdl__C': 316.22776601683796, 'mdl__l1_ratio'...</td>\n",
       "      <td>0.90</td>\n",
       "      <td>0.90</td>\n",
       "      <td>0.92</td>\n",
       "      <td>...</td>\n",
       "      <td>0.915837</td>\n",
       "      <td>0.023016</td>\n",
       "      <td>1</td>\n",
       "      <td>0.929648</td>\n",
       "      <td>0.929648</td>\n",
       "      <td>0.939698</td>\n",
       "      <td>0.939698</td>\n",
       "      <td>0.915</td>\n",
       "      <td>0.930739</td>\n",
       "      <td>0.009062</td>\n",
       "    </tr>\n",
       "    <tr>\n",
       "      <th>10</th>\n",
       "      <td>0.009391</td>\n",
       "      <td>0.000161</td>\n",
       "      <td>0.003486</td>\n",
       "      <td>0.000055</td>\n",
       "      <td>1000000.0</td>\n",
       "      <td>0.0</td>\n",
       "      <td>{'mdl__C': 1000000.0, 'mdl__l1_ratio': 0.0}</td>\n",
       "      <td>0.90</td>\n",
       "      <td>0.90</td>\n",
       "      <td>0.92</td>\n",
       "      <td>...</td>\n",
       "      <td>0.915837</td>\n",
       "      <td>0.023016</td>\n",
       "      <td>1</td>\n",
       "      <td>0.929648</td>\n",
       "      <td>0.929648</td>\n",
       "      <td>0.939698</td>\n",
       "      <td>0.939698</td>\n",
       "      <td>0.915</td>\n",
       "      <td>0.930739</td>\n",
       "      <td>0.009062</td>\n",
       "    </tr>\n",
       "    <tr>\n",
       "      <th>11</th>\n",
       "      <td>0.009564</td>\n",
       "      <td>0.000127</td>\n",
       "      <td>0.003573</td>\n",
       "      <td>0.000088</td>\n",
       "      <td>1000000.0</td>\n",
       "      <td>0.25</td>\n",
       "      <td>{'mdl__C': 1000000.0, 'mdl__l1_ratio': 0.25}</td>\n",
       "      <td>0.90</td>\n",
       "      <td>0.90</td>\n",
       "      <td>0.92</td>\n",
       "      <td>...</td>\n",
       "      <td>0.915837</td>\n",
       "      <td>0.023016</td>\n",
       "      <td>1</td>\n",
       "      <td>0.929648</td>\n",
       "      <td>0.929648</td>\n",
       "      <td>0.939698</td>\n",
       "      <td>0.939698</td>\n",
       "      <td>0.915</td>\n",
       "      <td>0.930739</td>\n",
       "      <td>0.009062</td>\n",
       "    </tr>\n",
       "    <tr>\n",
       "      <th>12</th>\n",
       "      <td>0.009597</td>\n",
       "      <td>0.000177</td>\n",
       "      <td>0.003623</td>\n",
       "      <td>0.000280</td>\n",
       "      <td>1000000.0</td>\n",
       "      <td>0.5</td>\n",
       "      <td>{'mdl__C': 1000000.0, 'mdl__l1_ratio': 0.5}</td>\n",
       "      <td>0.90</td>\n",
       "      <td>0.90</td>\n",
       "      <td>0.92</td>\n",
       "      <td>...</td>\n",
       "      <td>0.915837</td>\n",
       "      <td>0.023016</td>\n",
       "      <td>1</td>\n",
       "      <td>0.929648</td>\n",
       "      <td>0.929648</td>\n",
       "      <td>0.939698</td>\n",
       "      <td>0.939698</td>\n",
       "      <td>0.915</td>\n",
       "      <td>0.930739</td>\n",
       "      <td>0.009062</td>\n",
       "    </tr>\n",
       "    <tr>\n",
       "      <th>13</th>\n",
       "      <td>0.010431</td>\n",
       "      <td>0.000474</td>\n",
       "      <td>0.003788</td>\n",
       "      <td>0.000129</td>\n",
       "      <td>1000000.0</td>\n",
       "      <td>0.75</td>\n",
       "      <td>{'mdl__C': 1000000.0, 'mdl__l1_ratio': 0.75}</td>\n",
       "      <td>0.90</td>\n",
       "      <td>0.90</td>\n",
       "      <td>0.92</td>\n",
       "      <td>...</td>\n",
       "      <td>0.915837</td>\n",
       "      <td>0.023016</td>\n",
       "      <td>1</td>\n",
       "      <td>0.929648</td>\n",
       "      <td>0.929648</td>\n",
       "      <td>0.939698</td>\n",
       "      <td>0.939698</td>\n",
       "      <td>0.915</td>\n",
       "      <td>0.930739</td>\n",
       "      <td>0.009062</td>\n",
       "    </tr>\n",
       "    <tr>\n",
       "      <th>14</th>\n",
       "      <td>0.010057</td>\n",
       "      <td>0.000146</td>\n",
       "      <td>0.003669</td>\n",
       "      <td>0.000029</td>\n",
       "      <td>1000000.0</td>\n",
       "      <td>1.0</td>\n",
       "      <td>{'mdl__C': 1000000.0, 'mdl__l1_ratio': 1.0}</td>\n",
       "      <td>0.90</td>\n",
       "      <td>0.90</td>\n",
       "      <td>0.92</td>\n",
       "      <td>...</td>\n",
       "      <td>0.915837</td>\n",
       "      <td>0.023016</td>\n",
       "      <td>1</td>\n",
       "      <td>0.929648</td>\n",
       "      <td>0.929648</td>\n",
       "      <td>0.939698</td>\n",
       "      <td>0.939698</td>\n",
       "      <td>0.915</td>\n",
       "      <td>0.930739</td>\n",
       "      <td>0.009062</td>\n",
       "    </tr>\n",
       "  </tbody>\n",
       "</table>\n",
       "<p>15 rows × 22 columns</p>\n",
       "</div>"
      ],
      "text/plain": [
       "    mean_fit_time  std_fit_time  mean_score_time  std_score_time param_mdl__C  \\\n",
       "0        0.013081      0.003034         0.004969        0.001100          0.1   \n",
       "1        0.010312      0.000995         0.003884        0.000069          0.1   \n",
       "2        0.009784      0.000232         0.003744        0.000057          0.1   \n",
       "3        0.009862      0.000326         0.003858        0.000141          0.1   \n",
       "4        0.009762      0.000399         0.003704        0.000058          0.1   \n",
       "5        0.009858      0.000275         0.003653        0.000066   316.227766   \n",
       "6        0.009549      0.000107         0.003471        0.000039   316.227766   \n",
       "7        0.009491      0.000160         0.003472        0.000041   316.227766   \n",
       "8        0.009504      0.000101         0.003498        0.000111   316.227766   \n",
       "9        0.009462      0.000134         0.003461        0.000030   316.227766   \n",
       "10       0.009391      0.000161         0.003486        0.000055    1000000.0   \n",
       "11       0.009564      0.000127         0.003573        0.000088    1000000.0   \n",
       "12       0.009597      0.000177         0.003623        0.000280    1000000.0   \n",
       "13       0.010431      0.000474         0.003788        0.000129    1000000.0   \n",
       "14       0.010057      0.000146         0.003669        0.000029    1000000.0   \n",
       "\n",
       "   param_mdl__l1_ratio                                             params  \\\n",
       "0                  0.0              {'mdl__C': 0.1, 'mdl__l1_ratio': 0.0}   \n",
       "1                 0.25             {'mdl__C': 0.1, 'mdl__l1_ratio': 0.25}   \n",
       "2                  0.5              {'mdl__C': 0.1, 'mdl__l1_ratio': 0.5}   \n",
       "3                 0.75             {'mdl__C': 0.1, 'mdl__l1_ratio': 0.75}   \n",
       "4                  1.0              {'mdl__C': 0.1, 'mdl__l1_ratio': 1.0}   \n",
       "5                  0.0  {'mdl__C': 316.22776601683796, 'mdl__l1_ratio'...   \n",
       "6                 0.25  {'mdl__C': 316.22776601683796, 'mdl__l1_ratio'...   \n",
       "7                  0.5  {'mdl__C': 316.22776601683796, 'mdl__l1_ratio'...   \n",
       "8                 0.75  {'mdl__C': 316.22776601683796, 'mdl__l1_ratio'...   \n",
       "9                  1.0  {'mdl__C': 316.22776601683796, 'mdl__l1_ratio'...   \n",
       "10                 0.0        {'mdl__C': 1000000.0, 'mdl__l1_ratio': 0.0}   \n",
       "11                0.25       {'mdl__C': 1000000.0, 'mdl__l1_ratio': 0.25}   \n",
       "12                 0.5        {'mdl__C': 1000000.0, 'mdl__l1_ratio': 0.5}   \n",
       "13                0.75       {'mdl__C': 1000000.0, 'mdl__l1_ratio': 0.75}   \n",
       "14                 1.0        {'mdl__C': 1000000.0, 'mdl__l1_ratio': 1.0}   \n",
       "\n",
       "    split0_test_score  split1_test_score  split2_test_score  ...  \\\n",
       "0                0.90               0.90               0.92  ...   \n",
       "1                0.90               0.90               0.92  ...   \n",
       "2                0.92               0.88               0.90  ...   \n",
       "3                0.92               0.88               0.88  ...   \n",
       "4                0.88               0.90               0.90  ...   \n",
       "5                0.90               0.90               0.92  ...   \n",
       "6                0.90               0.90               0.92  ...   \n",
       "7                0.90               0.90               0.92  ...   \n",
       "8                0.90               0.90               0.92  ...   \n",
       "9                0.90               0.90               0.92  ...   \n",
       "10               0.90               0.90               0.92  ...   \n",
       "11               0.90               0.90               0.92  ...   \n",
       "12               0.90               0.90               0.92  ...   \n",
       "13               0.90               0.90               0.92  ...   \n",
       "14               0.90               0.90               0.92  ...   \n",
       "\n",
       "    mean_test_score  std_test_score  rank_test_score  split0_train_score  \\\n",
       "0          0.903673        0.014628               11            0.899497   \n",
       "1          0.899673        0.021619               13            0.889447   \n",
       "2          0.899837        0.039756               12            0.894472   \n",
       "3          0.891673        0.023625               15            0.904523   \n",
       "4          0.895673        0.014448               14            0.899497   \n",
       "5          0.915837        0.023016                1            0.929648   \n",
       "6          0.915837        0.023016                1            0.929648   \n",
       "7          0.915837        0.023016                1            0.929648   \n",
       "8          0.915837        0.023016                1            0.929648   \n",
       "9          0.915837        0.023016                1            0.929648   \n",
       "10         0.915837        0.023016                1            0.929648   \n",
       "11         0.915837        0.023016                1            0.929648   \n",
       "12         0.915837        0.023016                1            0.929648   \n",
       "13         0.915837        0.023016                1            0.929648   \n",
       "14         0.915837        0.023016                1            0.929648   \n",
       "\n",
       "    split1_train_score  split2_train_score  split3_train_score  \\\n",
       "0             0.909548            0.909548            0.909548   \n",
       "1             0.909548            0.899497            0.919598   \n",
       "2             0.904523            0.889447            0.914573   \n",
       "3             0.909548            0.899497            0.909548   \n",
       "4             0.889447            0.899497            0.899497   \n",
       "5             0.929648            0.939698            0.939698   \n",
       "6             0.929648            0.939698            0.939698   \n",
       "7             0.929648            0.939698            0.939698   \n",
       "8             0.929648            0.939698            0.939698   \n",
       "9             0.929648            0.939698            0.939698   \n",
       "10            0.929648            0.939698            0.939698   \n",
       "11            0.929648            0.939698            0.939698   \n",
       "12            0.929648            0.939698            0.939698   \n",
       "13            0.929648            0.939698            0.939698   \n",
       "14            0.929648            0.939698            0.939698   \n",
       "\n",
       "    split4_train_score  mean_train_score  std_train_score  \n",
       "0                0.905          0.906628         0.003977  \n",
       "1                0.900          0.903618         0.010212  \n",
       "2                0.900          0.900603         0.008636  \n",
       "3                0.885          0.901623         0.009109  \n",
       "4                0.885          0.894588         0.006175  \n",
       "5                0.915          0.930739         0.009062  \n",
       "6                0.915          0.930739         0.009062  \n",
       "7                0.915          0.930739         0.009062  \n",
       "8                0.915          0.930739         0.009062  \n",
       "9                0.915          0.930739         0.009062  \n",
       "10               0.915          0.930739         0.009062  \n",
       "11               0.915          0.930739         0.009062  \n",
       "12               0.915          0.930739         0.009062  \n",
       "13               0.915          0.930739         0.009062  \n",
       "14               0.915          0.930739         0.009062  \n",
       "\n",
       "[15 rows x 22 columns]"
      ]
     },
     "execution_count": 15,
     "metadata": {},
     "output_type": "execute_result"
    }
   ],
   "source": [
    "pd.DataFrame(grid_search.cv_results_)"
   ]
  },
  {
   "cell_type": "markdown",
   "id": "289be208-bf90-4699-951e-b09a0289aa9d",
   "metadata": {},
   "source": [
    "## Final fit\n",
    "\n",
    "The final fit here is already present in the generated model due to the way we set our parameters in the grid search. If we want to look at the performance, we can do so. Here is a non-helpful description of the best model:"
   ]
  },
  {
   "cell_type": "code",
   "execution_count": 16,
   "id": "9a0c404f-514c-4f2c-98c9-506ca8ca1c46",
   "metadata": {},
   "outputs": [
    {
     "data": {
      "text/plain": [
       "Pipeline(steps=[('preproc',\n",
       "                 ColumnTransformer(remainder='passthrough',\n",
       "                                   transformers=[('cat_pipe',\n",
       "                                                  Pipeline(steps=[('cat_impute',\n",
       "                                                                   SimpleImputer(strategy='most_frequent')),\n",
       "                                                                  ('onehot_cat',\n",
       "                                                                   OneHotEncoder(drop='if_binary'))]),\n",
       "                                                  <sklearn.compose._column_transformer.make_column_selector object at 0x7fd20a3348e0>),\n",
       "                                                 ('num_pipe',\n",
       "                                                  Pipeline(steps=[('impute_num',\n",
       "                                                                   SimpleImputer()),\n",
       "                                                                  ('scale_num',\n",
       "                                                                   StandardScaler())]),\n",
       "                                                  <sklearn.compose._column_transformer.make_column_selector object at 0x7fd1f89d7700>)])),\n",
       "                ('mdl',\n",
       "                 LogisticRegression(C=316.22776601683796, l1_ratio=0.0,\n",
       "                                    penalty='elasticnet', solver='saga',\n",
       "                                    tol=0.01))])"
      ]
     },
     "execution_count": 16,
     "metadata": {},
     "output_type": "execute_result"
    }
   ],
   "source": [
    "grid_search.best_estimator_"
   ]
  },
  {
   "cell_type": "markdown",
   "id": "3feb06cf-bf30-4383-9449-4153c0fa996e",
   "metadata": {},
   "source": [
    "## Variable importance\n",
    "\n",
    "Now we assess the importance in the selected model to reveal any potential insights."
   ]
  },
  {
   "cell_type": "code",
   "execution_count": 17,
   "id": "45f8b024-9842-41e3-bbbb-2642cd4af47a",
   "metadata": {},
   "outputs": [
    {
     "data": {
      "text/plain": [
       "array(['female', 'male'], dtype=object)"
      ]
     },
     "execution_count": 17,
     "metadata": {},
     "output_type": "execute_result"
    }
   ],
   "source": [
    "grid_search.classes_"
   ]
  },
  {
   "cell_type": "code",
   "execution_count": 18,
   "id": "e1832990-1f9d-46ee-9cf1-3c1288f7c47a",
   "metadata": {},
   "outputs": [
    {
     "data": {
      "text/plain": [
       "array([ 3.56664257, -2.43378023, -1.45937389, -0.40122446,  0.36591493,\n",
       "       -0.29120201,  2.62634286,  3.12766244, -0.13087772,  3.99162281,\n",
       "        0.16281216])"
      ]
     },
     "execution_count": 18,
     "metadata": {},
     "output_type": "execute_result"
    }
   ],
   "source": [
    "vip = grid_search.best_estimator_['mdl'].coef_[0]\n",
    "vip"
   ]
  },
  {
   "cell_type": "code",
   "execution_count": 19,
   "id": "7ebdc166-bdb7-4863-b46f-165f1aec7a7d",
   "metadata": {},
   "outputs": [
    {
     "data": {
      "image/png": "[encoded data removed]",
      "text/plain": [
       "<Figure size 432x288 with 1 Axes>"
      ]
     },
     "metadata": {
      "needs_background": "light"
     },
     "output_type": "display_data"
    }
   ],
   "source": [
    "#get names in correct preproc order\n",
    "cat_names = grid_search.best_estimator_.named_steps['preproc'].transformers_[0][1].named_steps['onehot_cat'].get_feature_names()\n",
    "num_names = grid_search.best_estimator_.named_steps['preproc'].transformers_[1][2]\n",
    "\n",
    "#create df with vip info\n",
    "coef_info = pd.DataFrame({'feat_names':np.hstack([cat_names, num_names]), 'vip': vip})\n",
    "\n",
    "#get sign and magnitude information\n",
    "coef_info = coef_info.assign(coef_mag = abs(coef_info['vip']),\n",
    "                             coef_sign = np.sign(coef_info['vip']))\n",
    "\n",
    "#sort and plot\n",
    "coef_info = coef_info.set_index('feat_names').sort_values(by='coef_mag', ascending=False)\n",
    "sns.barplot(y=coef_info.index, x='coef_mag', hue='coef_sign', data=coef_info, orient='h', dodge=False);"
   ]
  },
  {
   "cell_type": "markdown",
   "id": "aa95eb91-77ec-4d33-a039-b2f9f95097fb",
   "metadata": {},
   "source": [
    "## Performance metrics on test data\n",
    "\n",
    "\n",
    "Here, we can see the performance of the model, which is pretty nice! We can also look into different scores specifically for more insight into the performance."
   ]
  },
  {
   "cell_type": "code",
   "execution_count": 20,
   "id": "19f6f347-e01c-496a-ac3a-7e603361997f",
   "metadata": {
    "tags": []
   },
   "outputs": [
    {
     "name": "stdout",
     "output_type": "stream",
     "text": [
      "              precision    recall  f1-score   support\n",
      "\n",
      "      female       0.89      0.93      0.91        42\n",
      "        male       0.93      0.88      0.90        42\n",
      "\n",
      "    accuracy                           0.90        84\n",
      "   macro avg       0.91      0.90      0.90        84\n",
      "weighted avg       0.91      0.90      0.90        84\n",
      "\n"
     ]
    }
   ],
   "source": [
    "print(classification_report(y_test, grid_search.best_estimator_.predict(X_test)))"
   ]
  },
  {
   "cell_type": "code",
   "execution_count": 21,
   "id": "594638a2-fe7e-4295-ac53-edca4db92565",
   "metadata": {},
   "outputs": [
    {
     "data": {
      "image/png": "[encoded data removed]",
      "text/plain": [
       "<Figure size 432x288 with 2 Axes>"
      ]
     },
     "metadata": {
      "needs_background": "light"
     },
     "output_type": "display_data"
    }
   ],
   "source": [
    "cm = confusion_matrix(y_test, grid_search.best_estimator_.predict(X_test))\n",
    "disp = ConfusionMatrixDisplay(confusion_matrix=cm,\n",
    "                               display_labels=grid_search.classes_)\n",
    "disp.plot()\n",
    "\n",
    "plt.show()"
   ]
  },
  {
   "cell_type": "markdown",
   "id": "8aa24577-b182-4b54-a539-f498f93db4dc",
   "metadata": {},
   "source": [
    "## Try it yourself!\n",
    "\n",
    "Now that we've seen the power of pipelines in sklearn, let's now try implementing our own pipelines.\n",
    "\n",
    "Try implementing a pipeline where we use median imputation for numeric columns instead of mean imputation, as well as the standard scaler. Implement the same imputers and encoders for categorical variables."
   ]
  },
  {
   "cell_type": "code",
   "execution_count": null,
   "id": "05e5894f-4f8c-4f42-9b3d-63621cf18f4c",
   "metadata": {},
   "outputs": [],
   "source": [
    "#individual pipelines for differing datatypes\n",
    "cat_pipeline = Pipeline(steps=[# your code here])\n",
    "num_pipeline = Pipeline(steps=[# your code here])\n",
    "\n",
    "#establish preprocessing pipeline by columns\n",
    "preproc = "
   ]
  },
  {
   "cell_type": "markdown",
   "id": "632436b2-0167-4874-b129-28d83e45b0af",
   "metadata": {},
   "source": [
    "With this new pipeline, now train a Random Forest model. Refer to the documentation for the parameters for the random forest classifier here: https://scikit-learn.org/stable/modules/generated/sklearn.ensemble.RandomForestClassifier.html"
   ]
  },
  {
   "cell_type": "code",
   "execution_count": null,
   "id": "c9101ce8-4fbb-4058-b147-67919ff46f6d",
   "metadata": {},
   "outputs": [],
   "source": [
    "#generate the whole modeling pipeline with preprocessing\n",
    "pipe = Pipeline(steps=[('preproc', preproc),\n",
    "                       ('mdl', # your code here)])\n",
    "\n",
    "#visualization for steps\n",
    "with config_context(display='diagram'):\n",
    "    display(pipe)"
   ]
  },
  {
   "cell_type": "markdown",
   "id": "728d169a-0505-40cd-b773-0205cac0f81f",
   "metadata": {},
   "source": [
    "Now perform cross validation and modify the n_estimators parameter to values of [100, 200,500] and max_depth parameter to values of [10,15,50] for the random forest classifier for hyperparameter tuning."
   ]
  },
  {
   "cell_type": "code",
   "execution_count": null,
   "id": "370c38c4-a091-43f4-a095-509c8b2b4f9a",
   "metadata": {},
   "outputs": [],
   "source": [
    "tuning_grid = {'mdl__# your code here' :,\n",
    "               'mdl__# your code here': }\n",
    "grid_search = GridSearchCV(pipe, param_grid = tuning_grid, cv = 5, return_train_score=True)"
   ]
  },
  {
   "cell_type": "code",
   "execution_count": null,
   "id": "be1cecb5-0aa8-42a7-96d3-1be721acc4d5",
   "metadata": {},
   "outputs": [],
   "source": [
    "tuning_grid"
   ]
  },
  {
   "cell_type": "code",
   "execution_count": null,
   "id": "bac7bee7-2136-4bcd-b57d-cc4e1f1e39bf",
   "metadata": {},
   "outputs": [],
   "source": [
    "grid_search.fit(X_train, y_train)"
   ]
  },
  {
   "cell_type": "code",
   "execution_count": null,
   "id": "fe4a4c7f-3806-4e8d-a642-34ddd0488755",
   "metadata": {},
   "outputs": [],
   "source": [
    "print(grid_search.best_score_)\n",
    "grid_search.best_params_"
   ]
  },
  {
   "cell_type": "code",
   "execution_count": null,
   "id": "44b01658-ec11-45fa-aaf7-9df5dc3d398e",
   "metadata": {},
   "outputs": [],
   "source": [
    "pd.DataFrame(grid_search.cv_results_)"
   ]
  },
  {
   "cell_type": "code",
   "execution_count": null,
   "id": "c13ddef8-9fe5-48c3-892b-514cae0ff0cb",
   "metadata": {},
   "outputs": [],
   "source": [
    "grid_search.best_estimator_"
   ]
  },
  {
   "cell_type": "code",
   "execution_count": null,
   "id": "686c502f-7bd9-4bb6-8477-b055767db77d",
   "metadata": {},
   "outputs": [],
   "source": [
    "grid_search.classes_"
   ]
  },
  {
   "cell_type": "markdown",
   "id": "1cdf2bb3-a44f-4eb4-8b74-f78c727b2600",
   "metadata": {},
   "source": [
    "Here, note that the process of getting the feature importances is slighly different than that for Logistic regression."
   ]
  },
  {
   "cell_type": "code",
   "execution_count": null,
   "id": "91d03e13-ce53-4396-953b-93b6ee991634",
   "metadata": {},
   "outputs": [],
   "source": [
    "vip = grid_search.best_estimator_['mdl'].feature_importances_\n",
    "vip"
   ]
  },
  {
   "cell_type": "code",
   "execution_count": null,
   "id": "f467cf24-1f0a-4967-8552-929843bfa5d3",
   "metadata": {},
   "outputs": [],
   "source": [
    "#get names in correct preproc order\n",
    "cat_names = grid_search.best_estimator_.named_steps['preproc'].transformers_[0][1].named_steps['onehot_cat'].get_feature_names()\n",
    "num_names = grid_search.best_estimator_.named_steps['preproc'].transformers_[1][2]\n",
    "\n",
    "#create df with vip info\n",
    "coef_info = pd.DataFrame({'feat_names':np.hstack([cat_names, num_names]), 'vip': vip})\n",
    "\n",
    "#get sign and magnitude information\n",
    "coef_info = coef_info.assign(coef_mag = abs(coef_info['vip']),\n",
    "                             coef_sign = np.sign(coef_info['vip']))\n",
    "\n",
    "#sort and plot\n",
    "coef_info = coef_info.set_index('feat_names').sort_values(by='coef_mag', ascending=False)\n",
    "sns.barplot(y=coef_info.index, x='coef_mag', hue='coef_sign', data=coef_info, orient='h', dodge=False);"
   ]
  },
  {
   "cell_type": "code",
   "execution_count": null,
   "id": "c8492e28-8801-49ac-90d8-d23aa654d98b",
   "metadata": {},
   "outputs": [],
   "source": [
    "print(classification_report(y_test, grid_search.best_estimator_.predict(X_test)))"
   ]
  },
  {
   "cell_type": "code",
   "execution_count": null,
   "id": "9465fbec-8727-41f0-a242-ca804a752948",
   "metadata": {},
   "outputs": [],
   "source": [
    "cm = confusion_matrix(y_test, grid_search.best_estimator_.predict(X_test))\n",
    "disp = ConfusionMatrixDisplay(confusion_matrix=cm,\n",
    "                               display_labels=grid_search.classes_)\n",
    "disp.plot()\n",
    "\n",
    "plt.show()"
   ]
  }
 ],
 "metadata": {
  "kernelspec": {
   "display_name": "Python 3 (ipykernel)",
   "language": "python",
   "name": "python3"
  },
  "language_info": {
   "codemirror_mode": {
    "name": "ipython",
    "version": 3
   },
   "file_extension": ".py",
   "mimetype": "text/x-python",
   "name": "python",
   "nbconvert_exporter": "python",
   "pygments_lexer": "ipython3",
   "version": "3.8.8"
  }
 },
 "nbformat": 4,
 "nbformat_minor": 5
}
